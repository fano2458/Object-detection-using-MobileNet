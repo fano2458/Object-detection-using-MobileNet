{
 "cells": [
  {
   "cell_type": "code",
   "execution_count": 1,
   "metadata": {},
   "outputs": [],
   "source": [
    "from glob import glob\n",
    "import numpy as np\n",
    "from tqdm import tqdm"
   ]
  },
  {
   "cell_type": "code",
   "execution_count": 2,
   "metadata": {},
   "outputs": [],
   "source": [
    "annotations = glob(\"data/labels/*\")"
   ]
  },
  {
   "cell_type": "code",
   "execution_count": 3,
   "metadata": {},
   "outputs": [],
   "source": [
    "def filter_labels(filename):\n",
    "    with open(filename, \"r\") as f:\n",
    "        lines = f.readlines()\n",
    "\n",
    "    label_data = []\n",
    "    for line in lines:\n",
    "        class_id, x, y, w, h = line.strip().split()\n",
    "        if int(class_id) == 14:\n",
    "            label_data.append([0, float(x), float(y), float(w), float(h)])\n",
    "\n",
    "    if len(label_data) > 0:\n",
    "        new_filename = filename.replace(\"labels\", \"new_labels\")\n",
    "        with open(new_filename, \"w\") as f:\n",
    "            for row in label_data:\n",
    "                line = ' '.join(str(value) for value in row) + '\\n'\n",
    "                f.writelines(line)"
   ]
  },
  {
   "cell_type": "code",
   "execution_count": 4,
   "metadata": {},
   "outputs": [
    {
     "name": "stderr",
     "output_type": "stream",
     "text": [
      "100%|██████████| 21503/21503 [00:01<00:00, 17317.39it/s]\n"
     ]
    }
   ],
   "source": [
    "for filename in tqdm(annotations):\n",
    "    filter_labels(filename)"
   ]
  },
  {
   "cell_type": "code",
   "execution_count": null,
   "metadata": {},
   "outputs": [],
   "source": []
  }
 ],
 "metadata": {
  "kernelspec": {
   "display_name": "sergek",
   "language": "python",
   "name": "python3"
  },
  "language_info": {
   "codemirror_mode": {
    "name": "ipython",
    "version": 3
   },
   "file_extension": ".py",
   "mimetype": "text/x-python",
   "name": "python",
   "nbconvert_exporter": "python",
   "pygments_lexer": "ipython3",
   "version": "3.10.14"
  }
 },
 "nbformat": 4,
 "nbformat_minor": 2
}
